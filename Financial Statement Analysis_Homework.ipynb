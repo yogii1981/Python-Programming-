{
 "cells": [
  {
   "cell_type": "code",
   "execution_count": null,
   "metadata": {
    "collapsed": true
   },
   "outputs": [],
   "source": [
    "# Homework Solutions"
   ]
  },
  {
   "cell_type": "code",
   "execution_count": 18,
   "metadata": {
    "collapsed": false
   },
   "outputs": [],
   "source": [
    "#Data \n",
    "revenue = [14574.49, 7606.46, 8611.41, 9175.41, 8058.65, 8105.44, 11496.28, 9766.09, 10305.32, 14379.96, 10713.97, 15433.50]\n",
    "expenses = [12051.82, 5695.07, 12319.20, 12089.72, 8658.57, 840.20, 3285.73, 5821.12, 6976.93, 16618.61, 10054.37, 3803.96]"
   ]
  },
  {
   "cell_type": "code",
   "execution_count": 20,
   "metadata": {
    "collapsed": false
   },
   "outputs": [
    {
     "name": "stdout",
     "output_type": "stream",
     "text": [
      "[2522.67, 1911.3900000000003, -3707.790000000001, -2914.3099999999995, -599.9200000000001, 7265.24, 8210.550000000001, 3944.9700000000003, 3328.3899999999994, -2238.6500000000015, 659.5999999999985, 11629.54]\n"
     ]
    }
   ],
   "source": [
    "# calcultaing profit , Profit = revenue - expenses\n",
    "\n",
    "profit = list([])\n",
    "\n",
    "for i in range(0,len(revenue)):\n",
    "    profit.append(revenue[i]-expenses[i])\n",
    "print(profit)"
   ]
  },
  {
   "cell_type": "code",
   "execution_count": 21,
   "metadata": {
    "collapsed": false
   },
   "outputs": [
    {
     "name": "stdout",
     "output_type": "stream",
     "text": [
      "[756.8, 573.42, -1112.34, -874.29, -179.98, 2179.57, 2463.17, 1183.49, 998.52, -671.6, 197.88, 3488.86]\n"
     ]
    }
   ],
   "source": [
    "#tax\n",
    "tax = [round(i*0.3,2) for i in profit]      # i multiplied by 30 % upto 2 places for i in profit in loop\n",
    "print(tax)\n"
   ]
  },
  {
   "cell_type": "code",
   "execution_count": 23,
   "metadata": {
    "collapsed": false
   },
   "outputs": [
    {
     "name": "stdout",
     "output_type": "stream",
     "text": [
      "[1765.8700000000001, 1337.9700000000003, -2595.4500000000007, -2040.0199999999995, -419.94000000000005, 5085.67, 5747.380000000001, 2761.4800000000005, 2329.8699999999994, -1567.0500000000015, 461.71999999999855, 8140.68]\n"
     ]
    }
   ],
   "source": [
    "#profit after tax \n",
    "\n",
    "profit_after_tax = list([])\n",
    "\n",
    "for i in range(0,len(profit)):\n",
    "    profit_after_tax.append(profit[i]-tax[i])\n",
    "print(profit_after_tax)"
   ]
  },
  {
   "cell_type": "code",
   "execution_count": 28,
   "metadata": {
    "collapsed": false
   },
   "outputs": [
    {
     "name": "stdout",
     "output_type": "stream",
     "text": [
      "1750.6816666666666\n"
     ]
    }
   ],
   "source": [
    "# mean of the the profit after tax\n",
    "\n",
    "import numpy as np\n",
    "\n",
    "mean_profit_after_tax = sum(profit_after_tax) / len(profit_after_tax)\n",
    "\n",
    "print(mean_profit_after_tax)"
   ]
  },
  {
   "cell_type": "code",
   "execution_count": 84,
   "metadata": {
    "collapsed": false
   },
   "outputs": [
    {
     "name": "stdout",
     "output_type": "stream",
     "text": [
      "[12.12, 17.59, -30.14, -22.23, -5.21, 62.74, 49.99, 28.28, 22.61, -10.9, 4.31, 52.75]\n"
     ]
    }
   ],
   "source": [
    "#profit_margin\n",
    "\n",
    "profit_margin = list([])\n",
    "\n",
    "for i in range(0,len(profit)):\n",
    "    profit_margin.append(profit_after_tax[i] / revenue[i])\n",
    "    \n",
    "profit_margin= [round((i*100),2) for i in profit_margin]\n",
    "print(profit_margin)"
   ]
  },
  {
   "cell_type": "code",
   "execution_count": 30,
   "metadata": {
    "collapsed": false
   },
   "outputs": [
    {
     "name": "stdout",
     "output_type": "stream",
     "text": [
      "8140.68\n"
     ]
    }
   ],
   "source": [
    "# best month of the year\n",
    "\n",
    "best_month = max(profit_after_tax)\n",
    "\n",
    "print(best_month)"
   ]
  },
  {
   "cell_type": "code",
   "execution_count": 32,
   "metadata": {
    "collapsed": false
   },
   "outputs": [
    {
     "name": "stdout",
     "output_type": "stream",
     "text": [
      "-2595.4500000000007\n"
     ]
    }
   ],
   "source": [
    "#bad month of the year\n",
    "\n",
    "bad_month = min(profit_after_tax)\n",
    "print(bad_month)"
   ]
  },
  {
   "cell_type": "code",
   "execution_count": 71,
   "metadata": {
    "collapsed": false,
    "scrolled": true
   },
   "outputs": [
    {
     "name": "stdout",
     "output_type": "stream",
     "text": [
      "[True, False, False, False, False, True, True, True, True, False, False, True]\n"
     ]
    }
   ],
   "source": [
    "# good months of the year\n",
    "\n",
    "good_months = list([])\n",
    "\n",
    "for i in range(0,len(profit)):\n",
    "    good_months.append(profit_after_tax[i] > mean_profit_after_tax)\n",
    "print(good_months)"
   ]
  },
  {
   "cell_type": "code",
   "execution_count": 70,
   "metadata": {
    "collapsed": false
   },
   "outputs": [
    {
     "name": "stdout",
     "output_type": "stream",
     "text": [
      "[False, True, True, True, True, False, False, False, False, True, True, False]\n"
     ]
    }
   ],
   "source": [
    "# bad months of the year\n",
    "\n",
    "\n",
    "bad_months = list([])\n",
    "\n",
    "for i in range(0,len(profit)):\n",
    "    bad_months.append(profit_after_tax[i] < mean_profit_after_tax)\n",
    "print(bad_months)"
   ]
  },
  {
   "cell_type": "code",
   "execution_count": 75,
   "metadata": {
    "collapsed": false
   },
   "outputs": [
    {
     "name": "stdout",
     "output_type": "stream",
     "text": [
      "[False, False, False, False, False, False, False, False, False, False, False, True]\n"
     ]
    }
   ],
   "source": [
    "#best months\n",
    "\n",
    "best_mon = list([])\n",
    "\n",
    "for i in range(0, len(profit)):\n",
    "    best_mon.append(profit_after_tax[i] == max(profit_after_tax))\n",
    "print(best_mon)"
   ]
  },
  {
   "cell_type": "code",
   "execution_count": 77,
   "metadata": {
    "collapsed": false
   },
   "outputs": [
    {
     "name": "stdout",
     "output_type": "stream",
     "text": [
      "[False, False, True, False, False, False, False, False, False, False, False, False]\n"
     ]
    }
   ],
   "source": [
    "#worst months\n",
    "\n",
    "worst_mon = list([])\n",
    "\n",
    "for i in range(0, len(profit)):\n",
    "    worst_mon.append(profit_after_tax[i] == min(profit_after_tax))\n",
    "print(worst_mon)\n"
   ]
  },
  {
   "cell_type": "code",
   "execution_count": 81,
   "metadata": {
    "collapsed": false
   },
   "outputs": [],
   "source": [
    "# convert all calculations to units of one thousand dollars\n",
    "\n",
    "revenue_1000 = [round(i/1000,2) for i in revenue]\n",
    "expenses_1000 = [round(i/1000,2) for i in expenses]\n",
    "profit_1000 = [round(i/1000,2 ) for i in profit]\n",
    "profit_after_tax_1000 = [round(i/1000,2) for i in profit_after_tax]\n",
    "\n",
    "revenue_1000 = [int(i) for i in revenue_1000]\n",
    "expenses_1000 = [int(i) for i in expenses_1000]\n",
    "profit_1000 = [int(i) for i in profit_1000]\n",
    "profit_after_tax_1000 = [int(i) for i in profit_after_tax_1000]"
   ]
  },
  {
   "cell_type": "code",
   "execution_count": 86,
   "metadata": {
    "collapsed": false
   },
   "outputs": [
    {
     "name": "stdout",
     "output_type": "stream",
     "text": [
      "revenue :\n",
      "[14, 7, 8, 9, 8, 8, 11, 9, 10, 14, 10, 15]\n",
      "expenses :\n",
      "[12, 5, 12, 12, 8, 0, 3, 5, 6, 16, 10, 3]\n",
      "profit :\n",
      "[2, 1, -3, -2, 0, 7, 8, 3, 3, -2, 0, 11]\n",
      "profit_after_tax :\n",
      "[1, 1, -2, -2, 0, 5, 5, 2, 2, -1, 0, 8]\n",
      "good months :\n",
      "[True, False, False, False, False, True, True, True, True, False, False, True]\n",
      "bad months :\n",
      "[False, True, True, True, True, False, False, False, False, True, True, False]\n",
      "best months :\n",
      "[False, False, False, False, False, False, False, False, False, False, False, True]\n",
      "worst months\n",
      "[False, False, True, False, False, False, False, False, False, False, False, False]\n"
     ]
    }
   ],
   "source": [
    "#print results\n",
    "\n",
    "print(\"revenue :\")\n",
    "print(revenue_1000)\n",
    "print(\"expenses :\")\n",
    "print(expenses_1000)\n",
    "print(\"profit :\")\n",
    "print(profit_1000)\n",
    "print(\"profit_after_tax :\")\n",
    "print(profit_after_tax_1000)\n",
    "print(\"good months :\")\n",
    "print(good_months)\n",
    "print(\"bad months :\")\n",
    "print(bad_months)\n",
    "print(\"best months :\")\n",
    "print(best_mon)\n",
    "print(\"worst months\")\n",
    "print(worst_mon)\n",
    "\n",
    "\n"
   ]
  },
  {
   "cell_type": "code",
   "execution_count": 87,
   "metadata": {
    "collapsed": true
   },
   "outputs": [],
   "source": [
    "l1 = [20, 'a', 21, 'b', 22, 'c', 23, 'd', 24, 'e', 25, 'f']"
   ]
  },
  {
   "cell_type": "code",
   "execution_count": 90,
   "metadata": {
    "collapsed": false
   },
   "outputs": [
    {
     "data": {
      "text/plain": [
       "[]"
      ]
     },
     "execution_count": 90,
     "metadata": {},
     "output_type": "execute_result"
    }
   ],
   "source": [
    "l1[-1:12:-2]"
   ]
  },
  {
   "cell_type": "code",
   "execution_count": null,
   "metadata": {
    "collapsed": true
   },
   "outputs": [],
   "source": []
  }
 ],
 "metadata": {
  "anaconda-cloud": {},
  "kernelspec": {
   "display_name": "Python [conda root]",
   "language": "python",
   "name": "conda-root-py"
  },
  "language_info": {
   "codemirror_mode": {
    "name": "ipython",
    "version": 3
   },
   "file_extension": ".py",
   "mimetype": "text/x-python",
   "name": "python",
   "nbconvert_exporter": "python",
   "pygments_lexer": "ipython3",
   "version": "3.5.2"
  }
 },
 "nbformat": 4,
 "nbformat_minor": 1
}
