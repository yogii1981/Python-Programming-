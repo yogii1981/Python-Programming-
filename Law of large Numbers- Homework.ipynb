{
 "cells": [
  {
   "cell_type": "code",
   "execution_count": 1,
   "metadata": {
    "collapsed": true
   },
   "outputs": [],
   "source": [
    "# Test of law of large numbers for N random numbers choosen randomly \n",
    "# & distributed numbers with mean = 0 and Stddev = 1\n",
    "\n",
    "# create a python scripts where see how many numbers fall between -1 and 1 and divide total quantity by N\n",
    "\n",
    "# You know E(X) = 68.2%\n",
    "\n",
    "# check the Mean(Xn) -> E(X) while you rerun your script while increasing N"
   ]
  },
  {
   "cell_type": "code",
   "execution_count": 7,
   "metadata": {
    "collapsed": false
   },
   "outputs": [
    {
     "name": "stdout",
     "output_type": "stream",
     "text": [
      "0.6886\n"
     ]
    }
   ],
   "source": [
    "import numpy as np\n",
    "from numpy.random import randn\n",
    "N = 10000     #specify sample size\n",
    "Counter = 0  # reset counter\n",
    "for i in  randn(N):  #iterate over random values\n",
    "    if ( i > -1 and i < 1):      #check where iterative value falls\n",
    "        Counter = Counter + 1    #increase counter if condition is met\n",
    "answer = Counter / N             #calculate hit ratio\n",
    "print(answer)                   # print answer"
   ]
  },
  {
   "cell_type": "code",
   "execution_count": null,
   "metadata": {
    "collapsed": true
   },
   "outputs": [],
   "source": []
  },
  {
   "cell_type": "code",
   "execution_count": null,
   "metadata": {
    "collapsed": true
   },
   "outputs": [],
   "source": []
  }
 ],
 "metadata": {
  "anaconda-cloud": {},
  "kernelspec": {
   "display_name": "Python [conda root]",
   "language": "python",
   "name": "conda-root-py"
  },
  "language_info": {
   "codemirror_mode": {
    "name": "ipython",
    "version": 3
   },
   "file_extension": ".py",
   "mimetype": "text/x-python",
   "name": "python",
   "nbconvert_exporter": "python",
   "pygments_lexer": "ipython3",
   "version": "3.5.2"
  }
 },
 "nbformat": 4,
 "nbformat_minor": 1
}
