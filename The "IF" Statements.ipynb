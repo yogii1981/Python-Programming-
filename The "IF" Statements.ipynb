{
 "cells": [
  {
   "cell_type": "code",
   "execution_count": 1,
   "metadata": {
    "collapsed": true
   },
   "outputs": [],
   "source": [
    "#\"IF\" Statement"
   ]
  },
  {
   "cell_type": "code",
   "execution_count": 2,
   "metadata": {
    "collapsed": true
   },
   "outputs": [],
   "source": [
    "# --- -2 --- -1 --- 0 ---1 ---2"
   ]
  },
  {
   "cell_type": "code",
   "execution_count": 7,
   "metadata": {
    "collapsed": true
   },
   "outputs": [],
   "source": [
    "import numpy as np # importing numpy library\n",
    "from numpy.random import randn # importing function randn from numpy library"
   ]
  },
  {
   "cell_type": "code",
   "execution_count": 14,
   "metadata": {
    "collapsed": false
   },
   "outputs": [
    {
     "data": {
      "text/plain": [
       "0.9301251531162208"
      ]
     },
     "execution_count": 14,
     "metadata": {},
     "output_type": "execute_result"
    }
   ],
   "source": [
    "randn()"
   ]
  },
  {
   "cell_type": "code",
   "execution_count": 22,
   "metadata": {
    "collapsed": false
   },
   "outputs": [
    {
     "name": "stdout",
     "output_type": "stream",
     "text": [
      "1.0103420477254377\n",
      "x is greater than 1\n"
     ]
    }
   ],
   "source": [
    "# --- -2 --- -1 --- 0 ---1 ---2\n",
    "Answer = None\n",
    "x = randn ()\n",
    "if x > 1:\n",
    "    Answer = \"x is greater than 1\"\n",
    "print (x)\n",
    "print (Answer)"
   ]
  },
  {
   "cell_type": "code",
   "execution_count": 26,
   "metadata": {
    "collapsed": false
   },
   "outputs": [
    {
     "name": "stdout",
     "output_type": "stream",
     "text": [
      "0.8899821377605756\n",
      "x is less than 1\n"
     ]
    }
   ],
   "source": [
    "# --- -2 --- -1 --- 0 ---1 ---2\n",
    "Answer = None\n",
    "x = randn ()\n",
    "if x > 1:\n",
    "    Answer = \"x is greater than 1\"\n",
    "else:\n",
    "    Answer = \"x is less than 1\"\n",
    "print (x)\n",
    "print (Answer)"
   ]
  },
  {
   "cell_type": "code",
   "execution_count": 51,
   "metadata": {
    "collapsed": false
   },
   "outputs": [
    {
     "name": "stdout",
     "output_type": "stream",
     "text": [
      "0.6842907818288806\n",
      "Answer between -1 and 1\n"
     ]
    }
   ],
   "source": [
    "# --- -2 --- -1 --- 0 ---1 ---2\n",
    "# NESTED STATEMENTS\n",
    "Answer = None\n",
    "x = randn ()\n",
    "if x > 1:\n",
    "    Answer = \"x is greater than 1\"\n",
    "else:\n",
    "    if x >=-1:\n",
    "        Answer = \"Answer between -1 and 1\"\n",
    "    else:\n",
    "        Answer = \"Answer less than -1\"\n",
    "print (x)\n",
    "print (Answer)"
   ]
  },
  {
   "cell_type": "code",
   "execution_count": 54,
   "metadata": {
    "collapsed": false
   },
   "outputs": [
    {
     "name": "stdout",
     "output_type": "stream",
     "text": [
      "-0.6440045413699916\n",
      "Answer between -1 and 1\n"
     ]
    }
   ],
   "source": [
    "##Chained Statements\n",
    "# --- -2 --- -1 --- 0 ---1 ---2\n",
    "Answer = None\n",
    "\n",
    "x = randn ()\n",
    "if x > 1:\n",
    "    Answer = \"x is greater than 1\"\n",
    "elif x >= -1:\n",
    "    Answer = \"Answer between -1 and 1\"\n",
    "else:\n",
    "    Answer = \"Answer less than -1\"\n",
    "print (x)\n",
    "print (Answer)\n"
   ]
  },
  {
   "cell_type": "code",
   "execution_count": null,
   "metadata": {
    "collapsed": true
   },
   "outputs": [],
   "source": []
  }
 ],
 "metadata": {
  "anaconda-cloud": {},
  "kernelspec": {
   "display_name": "Python [conda root]",
   "language": "python",
   "name": "conda-root-py"
  },
  "language_info": {
   "codemirror_mode": {
    "name": "ipython",
    "version": 3
   },
   "file_extension": ".py",
   "mimetype": "text/x-python",
   "name": "python",
   "nbconvert_exporter": "python",
   "pygments_lexer": "ipython3",
   "version": "3.5.2"
  }
 },
 "nbformat": 4,
 "nbformat_minor": 1
}
