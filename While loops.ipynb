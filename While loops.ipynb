{
 "cells": [
  {
   "cell_type": "code",
   "execution_count": 1,
   "metadata": {
    "collapsed": true
   },
   "outputs": [],
   "source": [
    "#python is not vectorized language and python is object oriented, so loops are very important in python."
   ]
  },
  {
   "cell_type": "code",
   "execution_count": 2,
   "metadata": {
    "collapsed": true
   },
   "outputs": [],
   "source": [
    "# while loop in R             # look for condition if true then execute code 1 & 2 until condition is false \n",
    "# while (condition) {       \n",
    "#    execution code1\n",
    "#    execution code2\n",
    "#}\n",
    "# execution code 3            #execution code3 is implemented if while condition is false"
   ]
  },
  {
   "cell_type": "code",
   "execution_count": 3,
   "metadata": {
    "collapsed": true
   },
   "outputs": [],
   "source": [
    "# while loop in python       # look for condition if true then execute code 1 & 2 until condition is false an\n",
    "# while condition:\n",
    "#   execution code1\n",
    "#   execution code2\n",
    "#execution code3      #execution code3 is implemented if while condition is false\n"
   ]
  },
  {
   "cell_type": "markdown",
   "metadata": {},
   "source": [
    "---"
   ]
  },
  {
   "cell_type": "code",
   "execution_count": 5,
   "metadata": {
    "collapsed": false
   },
   "outputs": [],
   "source": [
    "while False:\n",
    "    print (\"Hello\")"
   ]
  },
  {
   "cell_type": "code",
   "execution_count": 6,
   "metadata": {
    "collapsed": true
   },
   "outputs": [],
   "source": [
    "# while True:          # it will give a infinte loop\n",
    "#    print (\"Hello\")"
   ]
  },
  {
   "cell_type": "code",
   "execution_count": 9,
   "metadata": {
    "collapsed": false
   },
   "outputs": [
    {
     "name": "stdout",
     "output_type": "stream",
     "text": [
      "0\n",
      "1\n",
      "2\n",
      "3\n",
      "4\n",
      "5\n",
      "6\n",
      "7\n",
      "8\n",
      "9\n",
      "10\n",
      "11\n"
     ]
    }
   ],
   "source": [
    "Counter = 0\n",
    "while Counter < 12:\n",
    "    print(Counter)\n",
    "    Counter = Counter + 1"
   ]
  },
  {
   "cell_type": "code",
   "execution_count": 12,
   "metadata": {
    "collapsed": false
   },
   "outputs": [
    {
     "name": "stdout",
     "output_type": "stream",
     "text": [
      "34\n",
      "33\n",
      "32\n",
      "31\n",
      "30\n",
      "29\n",
      "28\n",
      "27\n",
      "26\n",
      "25\n",
      "24\n",
      "23\n",
      "22\n",
      "21\n",
      "20\n",
      "19\n",
      "18\n",
      "17\n",
      "16\n",
      "15\n",
      "14\n",
      "13\n",
      "12\n",
      "11\n",
      "10\n",
      "City weather is cold now\n"
     ]
    }
   ],
   "source": [
    "Temperature = 34\n",
    "while Temperature > 9:\n",
    "    print(Temperature)\n",
    "    Temperature = Temperature - 1\n",
    "print (\"City weather is cold now\")"
   ]
  },
  {
   "cell_type": "code",
   "execution_count": 19,
   "metadata": {
    "collapsed": false
   },
   "outputs": [
    {
     "name": "stdout",
     "output_type": "stream",
     "text": [
      "79\n",
      "88\n",
      "78\n",
      "87\n",
      "77\n",
      "86\n",
      "76\n",
      "85\n",
      "75\n",
      "84\n",
      "74\n",
      "83\n",
      "73\n",
      "82\n",
      "72\n",
      "81\n",
      "71\n",
      "80\n",
      "70\n",
      "79\n",
      "69\n",
      "78\n",
      "68\n",
      "77\n",
      "67\n",
      "76\n",
      "66\n",
      "75\n",
      "All pass\n"
     ]
    }
   ],
   "source": [
    "Rohit_Mark= 89\n",
    "while Rohit_Mark > 75:\n",
    "    Rohan_Mark = Rohit_Mark - 10\n",
    "    print(Rohan_Mark)\n",
    "    Rohit_Mark = Rohit_Mark - 1\n",
    "    print(Rohit_Mark)\n",
    "print(\"All Distinction\")"
   ]
  },
  {
   "cell_type": "code",
   "execution_count": 22,
   "metadata": {
    "collapsed": false
   },
   "outputs": [
    {
     "name": "stdout",
     "output_type": "stream",
     "text": [
      "4\n",
      "11\n",
      "18\n",
      "25\n",
      "32\n",
      "39\n",
      "46\n"
     ]
    }
   ],
   "source": [
    "i = 4\n",
    "while i < 50:\n",
    "    print(i)\n",
    "    i = i + 7"
   ]
  },
  {
   "cell_type": "code",
   "execution_count": 23,
   "metadata": {
    "collapsed": false
   },
   "outputs": [
    {
     "name": "stdout",
     "output_type": "stream",
     "text": [
      "[4, 11, 18, 25, 32, 39, 46]\n"
     ]
    }
   ],
   "source": [
    "nums = list()\n",
    "i = 4\n",
    "while i < 50:\n",
    "    nums.append(i)\n",
    "    i = i + 7\n",
    "print(nums)"
   ]
  },
  {
   "cell_type": "code",
   "execution_count": null,
   "metadata": {
    "collapsed": true
   },
   "outputs": [],
   "source": []
  }
 ],
 "metadata": {
  "anaconda-cloud": {},
  "kernelspec": {
   "display_name": "Python [conda root]",
   "language": "python",
   "name": "conda-root-py"
  },
  "language_info": {
   "codemirror_mode": {
    "name": "ipython",
    "version": 3
   },
   "file_extension": ".py",
   "mimetype": "text/x-python",
   "name": "python",
   "nbconvert_exporter": "python",
   "pygments_lexer": "ipython3",
   "version": "3.5.2"
  }
 },
 "nbformat": 4,
 "nbformat_minor": 1
}
